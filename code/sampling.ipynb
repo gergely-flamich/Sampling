{
 "cells": [
  {
   "cell_type": "code",
   "execution_count": 107,
   "metadata": {},
   "outputs": [],
   "source": [
    "import tensorflow as tf\n",
    "import tensorflow_probability as tfp\n",
    "tfd = tfp.distributions\n",
    "\n",
    "import heapq as hq\n",
    "\n",
    "import numpy as np\n",
    "import matplotlib.pyplot as plt\n",
    "\n",
    "from scipy.stats import truncnorm, norm\n",
    "\n",
    "from tqdm import tqdm_notebook as tqdm"
   ]
  },
  {
   "cell_type": "code",
   "execution_count": 4,
   "metadata": {},
   "outputs": [],
   "source": [
    "def greedy_rej_sample(q, p):\n",
    "    # Harsha greedy rejection sampler\n",
    "    \n",
    "    pass"
   ]
  },
  {
   "cell_type": "code",
   "execution_count": 5,
   "metadata": {},
   "outputs": [],
   "source": [
    "def trunc_gumbel(seed, mean, b):\n",
    "    # Scale fixed to 1\n",
    "    \n",
    "    # To sample from Gumbel(mu, max):\n",
    "    # u ~ U([0, 1])\n",
    "    # x = mu - log(exp(mu - b) - log(u))\n",
    "    \n",
    "    np.random.seed(seed)\n",
    "    \n",
    "    u = np.random.uniform()\n",
    "    g = mean - np.log(np.exp(mean - b) - np.log(u))\n",
    "    \n",
    "    return g"
   ]
  },
  {
   "cell_type": "code",
   "execution_count": 161,
   "metadata": {},
   "outputs": [],
   "source": [
    "def coded_a_star_sample(trunc_sample, \n",
    "                        log_diff, \n",
    "                        range_cdf,\n",
    "                        range_bound, \n",
    "                        seed, \n",
    "                        eps=1e-5):\n",
    "    \n",
    "    # Define stuff\n",
    "    lower_bound = -np.inf\n",
    "    samp = None\n",
    "    samp_path = None\n",
    "    \n",
    "    idx = \"0\"\n",
    "    \n",
    "    # We will store all Gumbel samples here\n",
    "    gs = {}\n",
    "    \n",
    "    # argmaxes go here\n",
    "    xs = {}\n",
    "    \n",
    "    # bounds go here\n",
    "    bounds = {}\n",
    "    \n",
    "    # upper bounds go here\n",
    "    upper_bounds = {}\n",
    "    \n",
    "    search_heap = []\n",
    "    \n",
    "    # Convert the search path to a number\n",
    "    num_idx = int(idx, 2) + seed\n",
    "    \n",
    "    # Sample g ~ Gumbel(0), the maximum of the Gumbel process\n",
    "    g = trunc_gumbel(num_idx, 0, np.inf)\n",
    "    \n",
    "    # Sample x, the argmax of the Gumbel process\n",
    "    start_bound = (-np.inf, np.inf)\n",
    "    \n",
    "    x = trunc_sample(num_idx, start_bound)\n",
    "    \n",
    "    # Get the bound on the whole of |R\n",
    "    _, m = range_bound(start_bound)\n",
    "    \n",
    "    # Record these\n",
    "    gs[idx] = g\n",
    "    xs[idx] = x\n",
    "    bounds[idx] = start_bound\n",
    "    upper_bounds[idx] = m\n",
    "    \n",
    "    # Push with priority g + m the current index to investigate.\n",
    "    # Note: python's implementation of the heap is a min-heap, hence we actually push \n",
    "    # with priority -(g + m)\n",
    "    hq.heappush(search_heap, (-(g + m), idx))\n",
    "    \n",
    "    # Iterate while the heap is not empty and while the lower bound is smaller than the\n",
    "    # next best upper bound\n",
    "    while len(search_heap) > 0 and lower_bound < -search_heap[0][0]:\n",
    "        \n",
    "        # Get the sample with current highest upper bound\n",
    "        _, p = hq.heappop(search_heap)\n",
    "        \n",
    "        # Calculate the lower bound\n",
    "        lb_p = gs[p] + log_diff(xs[p])\n",
    "        \n",
    "        # If we have a higher lower bound, we set our candidate \n",
    "        # lower bound and sample to the current ones\n",
    "        if lower_bound < lb_p:\n",
    "            \n",
    "            lower_bound = lb_p\n",
    "            samp = xs[p]\n",
    "            samp_path = p\n",
    "    \n",
    "        # Partition the current bound: split at X_p\n",
    "        L, R = (bounds[p][0], xs[p]), (xs[p], bounds[p][1])\n",
    "        \n",
    "        for partition, direction in [(L, \"0\"), (R, \"1\")]:\n",
    "            # Decide if we should investigate the partition based on its size.\n",
    "            if partition[1] - partition[0] >= eps:\n",
    "                \n",
    "                # The index is the current search path plus the direction we are taking \n",
    "                idx = p + direction\n",
    "                \n",
    "                # Convert search path to number\n",
    "                num_idx = int(idx, 2) + seed\n",
    "                \n",
    "                # Sample stuff\n",
    "                g = trunc_gumbel(num_idx, np.log(range_cdf(partition)), gs[p])\n",
    "                x = trunc_sample(num_idx, partition)\n",
    "                \n",
    "                gs[idx] = g\n",
    "                xs[idx] = x\n",
    "                bounds[idx] = partition\n",
    "                \n",
    "                if lower_bound < g + upper_bounds[p]:\n",
    "                    \n",
    "                    # Get new upper bound\n",
    "                    _, m = range_bound(partition)\n",
    "                    upper_bounds[idx] = m\n",
    "                    \n",
    "                    # If the new upper bound is worth investigating, push it\n",
    "                    if lower_bound < g + m:\n",
    "                        hq.heappush(search_heap, (-(g + m), idx))\n",
    "                        \n",
    "    return lower_bound, samp, samp_path"
   ]
  },
  {
   "cell_type": "code",
   "execution_count": 162,
   "metadata": {},
   "outputs": [],
   "source": [
    "def trunc_norm_sample(seed, bounds, loc, scale): \n",
    "    np.random.seed(seed)\n",
    "    return truncnorm.ppf(np.random.uniform(), bounds[0], bounds[1], loc=loc, scale=scale)\n",
    "\n",
    "\n",
    "def normal_log_diff(x, p_loc, p_scale, q_loc, q_scale):\n",
    "    # logQ(x) - logP(x)\n",
    "    return norm.logpdf(x, loc=q_loc, scale=q_scale) - norm.logpdf(x, loc=p_loc, scale=p_scale)\n",
    "\n",
    "\n",
    "def normal_range_cdf(bounds, loc, scale):\n",
    "    # P(a < X < b) = P(X < b) - P(a < X)\n",
    "    return norm.cdf(bounds[1], loc, scale) - norm.cdf(bounds[0], loc, scale)\n",
    "\n",
    "\n",
    "def normal_range_bound(bounds, p_loc, p_scale, q_loc, q_scale):\n",
    "    # Range bound on logQ(x) - logP(x)\n",
    "    \n",
    "    if p_scale <= q_scale:\n",
    "        raise Exception(\"The log difference is undbounded!\")\n",
    "\n",
    "    max_point = (q_scale**2 * p_loc - p_scale**2 * q_loc) / (q_scale**2 - p_scale**2)\n",
    "    \n",
    "    if bounds[0] > max_point:\n",
    "        max_point = bounds[0]\n",
    "    \n",
    "    elif bounds[1] < max_point:\n",
    "        max_point = bounds[1]\n",
    "        \n",
    "    return max_point, normal_log_diff(max_point, p_loc, p_scale, q_loc, q_scale)\n",
    "\n",
    "def normal_kl(p_loc, p_scale, q_loc, q_scale):\n",
    "    \n",
    "    return np.log(p_scale) - np.log(q_scale) + (q_scale**2 + (q_loc - p_loc)**2) / (2 * p_scale**2) - 0.5"
   ]
  },
  {
   "cell_type": "code",
   "execution_count": 177,
   "metadata": {},
   "outputs": [
    {
     "data": {
      "text/plain": [
       "<matplotlib.lines.Line2D at 0x1308fd8d0>"
      ]
     },
     "execution_count": 177,
     "metadata": {},
     "output_type": "execute_result"
    },
    {
     "data": {
      "image/png": "[encoded data removed]",
      "text/plain": [
       "<Figure size 432x288 with 1 Axes>"
      ]
     },
     "metadata": {
      "needs_background": "light"
     },
     "output_type": "display_data"
    }
   ],
   "source": [
    "p_loc = 0.\n",
    "q_loc = 1.\n",
    "\n",
    "p_scale = 1.\n",
    "q_scale = 0.2\n",
    "\n",
    "xs = np.linspace(-1, 3, 100)\n",
    "\n",
    "d = normal_log_diff(xs, p_loc, p_scale, q_loc, q_scale)\n",
    "\n",
    "argmax, maxline = normal_range_bound((0, 1), p_loc, p_scale, q_loc, q_scale)\n",
    "\n",
    "plt.plot(xs, d)\n",
    "plt.axvline(argmax, color='r')\n",
    "plt.axhline(maxline, color='k')"
   ]
  },
  {
   "cell_type": "code",
   "execution_count": 175,
   "metadata": {},
   "outputs": [
    {
     "data": {
      "application/vnd.jupyter.widget-view+json": {
       "model_id": "b55aaa54eb85459e950435ce50ab18f1",
       "version_major": 2,
       "version_minor": 0
      },
      "text/plain": [
       "HBox(children=(IntProgress(value=0, max=1000), HTML(value='')))"
      ]
     },
     "metadata": {},
     "output_type": "display_data"
    },
    {
     "name": "stdout",
     "output_type": "stream",
     "text": [
      "\n"
     ]
    }
   ],
   "source": [
    "samps = []\n",
    "\n",
    "samp_paths = []\n",
    "\n",
    "for i in tqdm(range(1000)):\n",
    "\n",
    "    lb, samp, samp_path = coded_a_star_sample(\n",
    "        trunc_sample = lambda seed, bounds: trunc_norm_sample(seed, bounds, p_loc, p_scale), \n",
    "        log_diff = lambda x: normal_log_diff(x, p_loc, p_scale, q_loc, q_scale), \n",
    "        range_cdf = lambda bounds: normal_range_cdf(bounds, p_loc, p_scale),\n",
    "        range_bound = lambda bounds: normal_range_bound(bounds, p_loc, p_scale, q_loc, q_scale), \n",
    "        seed = i)\n",
    "    \n",
    "    samps.append(samp)\n",
    "    samp_paths.append(samp_path)"
   ]
  },
  {
   "cell_type": "code",
   "execution_count": 178,
   "metadata": {},
   "outputs": [
    {
     "data": {
      "image/png": "[encoded data removed]",
      "text/plain": [
       "<Figure size 432x288 with 1 Axes>"
      ]
     },
     "metadata": {
      "needs_background": "light"
     },
     "output_type": "display_data"
    }
   ],
   "source": [
    "plt.hist(samps, bins=70, density=True)\n",
    "plt.plot(xs, norm.pdf(xs, loc=q_loc, scale=q_scale))\n",
    "plt.show()"
   ]
  },
  {
   "cell_type": "code",
   "execution_count": 179,
   "metadata": {},
   "outputs": [
    {
     "name": "stdout",
     "output_type": "stream",
     "text": [
      "Expected Length: 1.629\n",
      "Empirical Length: 3.662\n"
     ]
    }
   ],
   "source": [
    "expected_length = normal_kl(p_loc, p_scale, q_loc, q_scale)\n",
    "empirical_length = sum(map(len, samp_paths)) / len(samp_paths)\n",
    "\n",
    "print(\"Expected Length: {:.3f}\".format(expected_length))\n",
    "print(\"Empirical Length: {:.3f}\".format(empirical_length))"
   ]
  },
  {
   "cell_type": "code",
   "execution_count": 191,
   "metadata": {},
   "outputs": [],
   "source": [
    "np.random.seed(42)\n",
    "\n",
    "loc_range = [-3, 3]\n",
    "scale_range = [0.2, 1]\n",
    "\n",
    "num_dims = 4\n",
    "\n",
    "q_locs = np.random.uniform(size=(num_dims,), low=loc_range[0], high=loc_range[1])\n",
    "q_scales = np.random.uniform(size=(num_dims,), low=scale_range[0], high=scale_range[1])\n",
    "\n",
    "kls = np.array([normal_kl(0., 1., q_loc, q_scale) for q_loc, q_scale in zip(q_locs, q_scales)])\n",
    "\n",
    "softmax_dist = np.exp(kls) / np.sum(np.exp(kls))"
   ]
  },
  {
   "cell_type": "code",
   "execution_count": 197,
   "metadata": {},
   "outputs": [],
   "source": [
    "t = np.random.choice(range(4), size=100, p=softmax_dist)"
   ]
  }
 ],
 "metadata": {
  "kernelspec": {
   "display_name": "Python 3",
   "language": "python",
   "name": "python3"
  },
  "language_info": {
   "codemirror_mode": {
    "name": "ipython",
    "version": 3
   },
   "file_extension": ".py",
   "mimetype": "text/x-python",
   "name": "python",
   "nbconvert_exporter": "python",
   "pygments_lexer": "ipython3",
   "version": "3.7.1"
  }
 },
 "nbformat": 4,
 "nbformat_minor": 2
}
